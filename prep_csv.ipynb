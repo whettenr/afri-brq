{
 "cells": [
  {
   "cell_type": "markdown",
   "id": "551c20e7-35bc-43c3-81b8-4b86c8ab86fb",
   "metadata": {},
   "source": [
    "# Data Prep"
   ]
  },
  {
   "cell_type": "code",
   "execution_count": 1,
   "id": "85e6a805",
   "metadata": {},
   "outputs": [
    {
     "name": "stderr",
     "output_type": "stream",
     "text": [
      "/tmp/ipykernel_2633/1488759210.py:7: DeprecationWarning: \n",
      "Pyarrow will become a required dependency of pandas in the next major release of pandas (pandas 3.0),\n",
      "(to allow more performant data types, such as the Arrow string type, and better interoperability with other libraries)\n",
      "but was not found to be installed on your system.\n",
      "If this would cause problems for you,\n",
      "please provide us feedback at https://github.com/pandas-dev/pandas/issues/54466\n",
      "        \n",
      "  import pandas as pd\n",
      "/users/rwhetten/.conda/envs/aa/lib/python3.11/site-packages/tqdm/auto.py:21: TqdmWarning: IProgress not found. Please update jupyter and ipywidgets. See https://ipywidgets.readthedocs.io/en/stable/user_install.html\n",
      "  from .autonotebook import tqdm as notebook_tqdm\n"
     ]
    }
   ],
   "source": [
    "import csv\n",
    "import functools\n",
    "import os\n",
    "import random\n",
    "from collections import Counter\n",
    "from dataclasses import dataclass\n",
    "import pandas as pd\n",
    "from tqdm import tqdm\n",
    "\n",
    "\n",
    "from speechbrain.dataio.dataio import (\n",
    "    merge_csvs,\n",
    "    read_audio_info,\n",
    ")\n",
    "from speechbrain.utils.data_utils import download_file, get_all_files\n",
    "from speechbrain.utils.logger import get_logger\n",
    "from speechbrain.utils.parallel import parallel_map"
   ]
  },
  {
   "cell_type": "code",
   "execution_count": 2,
   "id": "f3de42e2",
   "metadata": {},
   "outputs": [],
   "source": [
    "def process_and_split_line(wav_file, split_interval) -> list:\n",
    "    info = read_audio_info(wav_file)\n",
    "    duration = info.num_frames\n",
    "    split_interval = split_interval * info.sample_rate\n",
    "    assert info.sample_rate == 16000\n",
    "    new_rows = []\n",
    "    start = 0 \n",
    "    components = wav_file.split(os.sep)\n",
    "    id_name = os.path.join(components[-2], components[-1])\n",
    "\n",
    "    if split_interval != 0:\n",
    "        while start < duration:\n",
    "            stop = min(start + split_interval, duration)\n",
    "            new_rows.append([\n",
    "                id_name + str(start / info.sample_rate),\n",
    "                wav_file,\n",
    "                start,\n",
    "                stop,\n",
    "                (stop - start) / info.sample_rate,\n",
    "            ])\n",
    "            start = start + split_interval\n",
    "    else:\n",
    "        new_rows.append([\n",
    "            id_name,\n",
    "            wav_file,\n",
    "            0,\n",
    "            0,\n",
    "            duration / info.sample_rate,\n",
    "        ])\n",
    "    \n",
    "    return new_rows"
   ]
  },
  {
   "cell_type": "code",
   "execution_count": 13,
   "id": "3b09d257",
   "metadata": {},
   "outputs": [],
   "source": [
    "save_location = \"/users/rwhetten/african_brq/csvs\"\n"
   ]
  },
  {
   "cell_type": "code",
   "execution_count": 11,
   "id": "47e3eacb",
   "metadata": {},
   "outputs": [],
   "source": [
    "csvs = [\n",
    "    # \"/users/fkponou/data/speechbrain/To_Ryan/cappfm.csv\",\n",
    "    # \"/users/fkponou/data/speechbrain/To_Ryan/igbo.csv\",\n",
    "    # \"/users/fkponou/data/speechbrain/To_Ryan/yor.csv\",\n",
    "    \"/users/rwhetten/african_brq/csvs/igbo.csv\",\n",
    "    \"/users/rwhetten/african_brq/csvs/yor.csv\",\n",
    "]\n",
    "\n",
    "split_int = 30\n",
    "dfs = {}\n",
    "for ds in csvs:\n",
    "    ds_name = os.path.splitext(os.path.basename(ds))[0]\n",
    "    dfs[ds_name] = pd.read_csv(ds)"
   ]
  },
  {
   "cell_type": "code",
   "execution_count": 15,
   "id": "a54a8153",
   "metadata": {},
   "outputs": [
    {
     "name": "stderr",
     "output_type": "stream",
     "text": [
      "100%|███████████████████████████████████████████████████████████████████████████████████████████████████| 68850/68850 [02:36<00:00, 439.79it/s]\n"
     ]
    },
    {
     "name": "stdout",
     "output_type": "stream",
     "text": [
      "Hours in igbo: 103.79504000000001\n"
     ]
    },
    {
     "name": "stderr",
     "output_type": "stream",
     "text": [
      "100%|████████████████████████████████████████████████████████████████████████████████████████████████████| 44172/44172 [08:42<00:00, 84.52it/s]\n"
     ]
    },
    {
     "name": "stdout",
     "output_type": "stream",
     "text": [
      "Hours in yor: 72.5639\n"
     ]
    }
   ],
   "source": [
    "columns = [\"ID\", \"wav\", \"start\", \"stop\", \"duration\"]\n",
    "\n",
    "processed_dfs = {}\n",
    "for ds in dfs:\n",
    "    data = []\n",
    "    for file in tqdm(dfs[ds].file_path):\n",
    "        data += process_and_split_line(file, split_int)\n",
    "\n",
    "    df = pd.DataFrame(data, columns=columns)\n",
    "    print(f\"Hours in {ds}: {df.duration.sum() / 3600}\")\n",
    "    processed_dfs[ds] = df\n",
    "    df.to_csv(f\"{save_location}/{ds}_test.csv\")\n"
   ]
  },
  {
   "cell_type": "code",
   "execution_count": 41,
   "id": "392fab77-5fb2-4888-8681-8f3aaaa34da9",
   "metadata": {},
   "outputs": [],
   "source": [
    "for ds in processed_dfs:\n",
    "    processed_dfs[ds].to_csv(f\"{save_location}/{ds}.csv\", index=False)"
   ]
  },
  {
   "cell_type": "code",
   "execution_count": 17,
   "id": "c26da837-3073-45ba-81af-e3701d97738d",
   "metadata": {},
   "outputs": [],
   "source": [
    "fong = pd.read_csv(\"/users/rwhetten/african_brq/csvs/cappfm.csv\")"
   ]
  },
  {
   "cell_type": "code",
   "execution_count": 19,
   "id": "015f3cd9-7030-41b8-b27f-5f6b24ce3bfe",
   "metadata": {},
   "outputs": [],
   "source": [
    "pd.concat([fong, processed_dfs['igbo'], processed_dfs['yor']]).to_csv(f\"{save_location}/f_i_y.csv\", index=False)"
   ]
  },
  {
   "cell_type": "code",
   "execution_count": 22,
   "id": "5684f0d5-d107-4a89-8936-963ee6451261",
   "metadata": {},
   "outputs": [],
   "source": [
    "all_csvs = pd.read_csv(\"/users/rwhetten/african_brq/csvs/f_i_y.csv\")"
   ]
  },
  {
   "cell_type": "code",
   "execution_count": 25,
   "id": "7dcb686c-67cd-4ded-a07b-6c6cb7187f66",
   "metadata": {},
   "outputs": [
    {
     "data": {
      "text/plain": [
       "286.1103775520833"
      ]
     },
     "execution_count": 25,
     "metadata": {},
     "output_type": "execute_result"
    }
   ],
   "source": [
    "all_csvs.duration.sum() / 3600"
   ]
  },
  {
   "cell_type": "code",
   "execution_count": 20,
   "id": "7a731ee0-9344-4863-9886-b81264658e5f",
   "metadata": {},
   "outputs": [
    {
     "data": {
      "text/plain": [
       "3.690030555555556"
      ]
     },
     "execution_count": 20,
     "metadata": {},
     "output_type": "execute_result"
    }
   ],
   "source": [
    "pd.read_csv(\"/users/rwhetten/african_brq/csvs/valid.csv\").duration.sum() / 60 / 60"
   ]
  },
  {
   "cell_type": "code",
   "execution_count": null,
   "id": "7f112518-3f4e-4d1f-b43d-7a133d0778ba",
   "metadata": {},
   "outputs": [],
   "source": []
  },
  {
   "cell_type": "code",
   "execution_count": null,
   "id": "7f66fd81-0f58-4cb7-8537-87cd54923459",
   "metadata": {},
   "outputs": [],
   "source": []
  },
  {
   "cell_type": "code",
   "execution_count": null,
   "id": "8d5eb66a-513b-4455-a64c-923a099c0125",
   "metadata": {},
   "outputs": [],
   "source": []
  },
  {
   "cell_type": "code",
   "execution_count": 2,
   "id": "09739364-1cd6-4597-90cb-7404e635f4e5",
   "metadata": {},
   "outputs": [],
   "source": [
    "valid_path = \"/users/rwhetten/african_brq/csvs/valid.csv\""
   ]
  },
  {
   "cell_type": "code",
   "execution_count": 5,
   "id": "6fddf358-15d5-4732-a5d8-5a233c2ca243",
   "metadata": {},
   "outputs": [],
   "source": [
    "valid_df = pd.read_csv(valid_path)"
   ]
  },
  {
   "cell_type": "code",
   "execution_count": 9,
   "id": "088ea018-e00e-4a8d-9e39-c0fa063a0f3f",
   "metadata": {},
   "outputs": [],
   "source": [
    "valid_df['start'] = [0] * len(valid_df)\n",
    "valid_df['stop'] = [0] * len(valid_df)"
   ]
  },
  {
   "cell_type": "code",
   "execution_count": 14,
   "id": "e203756d-9c6f-4027-8dcd-a1a6d2785723",
   "metadata": {},
   "outputs": [],
   "source": [
    "valid_df.to_csv(f\"{save_location}/valid_2.csv\", index=False)"
   ]
  },
  {
   "cell_type": "code",
   "execution_count": null,
   "id": "3f509dd4-7806-449a-9a2e-79ce2bc0073c",
   "metadata": {},
   "outputs": [],
   "source": []
  }
 ],
 "metadata": {
  "kernelspec": {
   "display_name": "Python 3 (ipykernel)",
   "language": "python",
   "name": "python3"
  },
  "language_info": {
   "codemirror_mode": {
    "name": "ipython",
    "version": 3
   },
   "file_extension": ".py",
   "mimetype": "text/x-python",
   "name": "python",
   "nbconvert_exporter": "python",
   "pygments_lexer": "ipython3",
   "version": "3.11.7"
  }
 },
 "nbformat": 4,
 "nbformat_minor": 5
}
